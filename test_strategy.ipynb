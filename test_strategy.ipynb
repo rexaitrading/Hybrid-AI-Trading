{
 "cells": [
  {
   "cell_type": "code",
   "execution_count": null,
   "id": "3aee1c42-8480-4cab-99c1-732279ce89b8",
   "metadata": {},
   "outputs": [],
   "source": [
    "test_strategy.ipynb"
   ]
  },
  {
   "cell_type": "code",
   "execution_count": 2,
   "id": "96f0018c-2bbd-4594-98c7-cf41c3d58158",
   "metadata": {},
   "outputs": [
    {
     "ename": "IndentationError",
     "evalue": "expected an indented block after 'if' statement on line 8 (2532872823.py, line 9)",
     "output_type": "error",
     "traceback": [
      "  \u001b[36mCell\u001b[39m\u001b[36m \u001b[39m\u001b[32mIn[2]\u001b[39m\u001b[32m, line 9\u001b[39m\n\u001b[31m    \u001b[39m\u001b[31mraise RuntimeError(\"yfinance 沒有抓到資料，請稍後再試或檢查網路/代號。\")\u001b[39m\n    ^\n\u001b[31mIndentationError\u001b[39m\u001b[31m:\u001b[39m expected an indented block after 'if' statement on line 8\n"
     ]
    }
   ],
   "source": [
    "import yfinance as yf\n",
    "import matplotlib.pyplot as plt\n",
    "\n",
    "# 下載 AAPL 過去 6 個月的日資料\n",
    "data = yf.download(\"AAPL\", period=\"6mo\", interval=\"1d\")\n",
    "\n",
    "# 防呆：確認資料有抓到\n",
    "if data is None or data.empty:\n",
    "raise RuntimeError(\"yfinance 沒有抓到資料，請稍後再試或檢查網路/代號。\")\n",
    "\n",
    "# 1) 建立上下兩個子圖，共用 X 軸（日期）\n",
    "fig, (ax1, ax2) = plt.subplots(2, 1, figsize=(12, 8), sharex=True)\n",
    "\n",
    "# 2) 上圖：收盤價\n",
    "ax1.plot(data.index, data[\"Close\"], label=\"AAPL Close Price\")\n",
    "ax1.set_title(\"Apple Stock Price - Last 6 Months\")\n",
    "ax1.set_ylabel(\"Price (USD)\")\n",
    "ax1.legend()\n",
    "\n",
    "# 3) 下圖：交易量\n",
    "ax2.bar(data.index, data[\"Volume\"], label=\"Volume\")\n",
    "ax2.set_ylabel(\"Volume\")\n",
    "ax2.set_xlabel(\"Date\")\n",
    "ax2.legend()\n",
    "\n",
    "# 4) 版面調整並顯示\n",
    "plt.tight_layout()\n",
    "plt.show()"
   ]
  },
  {
   "cell_type": "code",
   "execution_count": null,
   "id": "20f9723d-85c5-40f2-99b4-6e6e08b1d95b",
   "metadata": {},
   "outputs": [],
   "source": []
  }
 ],
 "metadata": {
  "kernelspec": {
   "display_name": "Python 3 (ipykernel)",
   "language": "python",
   "name": "python3"
  },
  "language_info": {
   "codemirror_mode": {
    "name": "ipython",
    "version": 3
   },
   "file_extension": ".py",
   "mimetype": "text/x-python",
   "name": "python",
   "nbconvert_exporter": "python",
   "pygments_lexer": "ipython3",
   "version": "3.12.10"
  }
 },
 "nbformat": 4,
 "nbformat_minor": 5
}
