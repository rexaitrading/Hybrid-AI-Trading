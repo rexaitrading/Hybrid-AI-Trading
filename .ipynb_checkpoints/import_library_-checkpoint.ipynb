{
 "cells": [
  {
   "cell_type": "code",
   "execution_count": 1,
   "id": "7073ebf2-01c4-443d-93ae-c60ed94726c9",
   "metadata": {},
   "outputs": [
    {
     "name": "stdout",
     "output_type": "stream",
     "text": [
      "Index(['AAPL', 'MSFT', 'GOOG'], dtype='object', name='Ticker')\n",
      "Ticker           AAPL        MSFT       GOOG\n",
      "Date                                        \n",
      "2020-01-02  72.538513  153.042297  67.964508\n",
      "2020-01-03  71.833298  151.136642  67.630989\n",
      "2020-01-06  72.405663  151.527313  69.298576\n",
      "2020-01-07  72.065125  150.145737  69.255341\n",
      "2020-01-08  73.224403  152.537323  69.801094\n"
     ]
    }
   ],
   "source": [
    "import pandas as pd\n",
    "import yfinance as yf\n",
    "\n",
    "TICKERS = [\"AAPL\", \"MSFT\", \"GOOG\"] # 你想測嘅股票\n",
    "START = \"2020-01-01\"\n",
    "\n",
    "def load_close_df(tickers, start=START, interval=\"1d\"):\n",
    "    df = yf.download(\n",
    "        tickers,\n",
    "        start=start,\n",
    "        interval=interval,\n",
    "        auto_adjust=True, # 已自動做調整，因此通常只會有 \"Close\"\n",
    "        progress=False,\n",
    "        group_by=\"column\" # 多 ticker 時回傳 (field, ticker) 的 MultiIndex\n",
    "    )\n",
    "\n",
    "    # 多股票 => 多半係 MultiIndex 欄位\n",
    "    if isinstance(df.columns, pd.MultiIndex):\n",
    "        lvl0 = df.columns.get_level_values(0)\n",
    "        field = \"Adj Close\" if \"Adj Close\" in lvl0 else \"Close\"\n",
    "        close = df[field] # 取出 (field, ticker) 的其中一層\n",
    "        # 確保列順序只保留下載到的 tickers\n",
    "        close = close.reindex(columns=[t for t in tickers if t in close.columns])\n",
    "    else:\n",
    "        # 單股票 or 某些設定下只得單層欄位\n",
    "        if \"Adj Close\" in df.columns:\n",
    "            close = df[\"Adj Close\"].to_frame(tickers[0])\n",
    "        elif \"Close\" in df.columns:\n",
    "            close = df[\"Close\"].to_frame(tickers[0])\n",
    "        else:\n",
    "             raise KeyError(\"既沒有 'Adj Close' 也沒有 'Close' 欄位\")\n",
    "\n",
    "    return close.dropna(how=\"all\")\n",
    "\n",
    "# --- 先載資料 ---\n",
    "prices = load_close_df(TICKERS, START)\n",
    "\n",
    "# 檢查一下實際欄位\n",
    "print(prices.columns) # 應該係各個 TICKER 作為欄位\n",
    "print(prices.head())"
   ]
  },
  {
   "cell_type": "code",
   "execution_count": null,
   "id": "bd23453f-0b7a-414a-a613-c1bfa56b3b81",
   "metadata": {},
   "outputs": [],
   "source": []
  }
 ],
 "metadata": {
  "kernelspec": {
   "display_name": "Python 3 (ipykernel)",
   "language": "python",
   "name": "python3"
  },
  "language_info": {
   "codemirror_mode": {
    "name": "ipython",
    "version": 3
   },
   "file_extension": ".py",
   "mimetype": "text/x-python",
   "name": "python",
   "nbconvert_exporter": "python",
   "pygments_lexer": "ipython3",
   "version": "3.12.10"
  }
 },
 "nbformat": 4,
 "nbformat_minor": 5
}
