{
 "cells": [
  {
   "cell_type": "code",
   "execution_count": null,
   "id": "51b2ebd8-3b36-4a8a-a5ff-feabee0fa813",
   "metadata": {},
   "outputs": [],
   "source": [
    "import yfinance as yf\n",
    "import pandas as pd\n",
    "import matplotlib.pyplot as plt\n",
    "\n",
    "# 抓取蘋果 AAPL 最近 3 個月數據\n",
    "data = yf.download(\"AAPL\", period=\"3mo\", interval=\"1d\")\n",
    "\n",
    "# 顯示前 5 筆資料\n",
    "print(data.head())\n",
    "\n",
    "# 畫股價走勢圖\n",
    "plt.figure(figsize=(10,5))\n",
    "plt.plot(data.index, data[\"Close\"], label=\"AAPL Close Price\")\n",
    "plt.title(\"Apple Stock Price - Last 3 Months\")\n",
    "plt.xlabel(\"Date\")\n",
    "plt.ylabel(\"Price (USD)\")\n",
    "plt.legend()\n",
    "plt.show()\n"
   ]
  }
 ],
 "metadata": {
  "kernelspec": {
   "display_name": "Python 3 (ipykernel)",
   "language": "python",
   "name": "python3"
  },
  "language_info": {
   "codemirror_mode": {
    "name": "ipython",
    "version": 3
   },
   "file_extension": ".py",
   "mimetype": "text/x-python",
   "name": "python",
   "nbconvert_exporter": "python",
   "pygments_lexer": "ipython3",
   "version": "3.12.10"
  }
 },
 "nbformat": 4,
 "nbformat_minor": 5
}
