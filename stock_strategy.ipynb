{
 "cells": [
  {
   "cell_type": "code",
   "execution_count": 1,
   "id": "476ef9fb-0cca-4313-8ef9-4b87c67cf078",
   "metadata": {},
   "outputs": [],
   "source": [
    "import warnings\n",
    "\n",
    "warnings.filterwarnings(\"ignore\")\n",
    "\n",
    "\n",
    "TICKER = \"AAPL\"  # 股票代碼\n",
    "PERIOD = \"2y\"  # 抓取 2 年資料\n",
    "INTERVAL = \"1d\"  # 日線\n",
    "FAST = 10  # 快均線\n",
    "SLOW = 30  # 慢均線\n",
    "RISK_PER_TRADE = 0.01  # 單筆風險 1% 資金\n",
    "STOP_LOSS_PCT = 0.03  # 停損 3%\n",
    "INIT_CAPITAL = 100_000  # 初始資金"
   ]
  },
  {
   "cell_type": "code",
   "execution_count": null,
   "id": "68593bec-95f9-4abe-ab71-a85a60adedea",
   "metadata": {},
   "outputs": [],
   "source": []
  }
 ],
 "metadata": {
  "kernelspec": {
   "display_name": "Python 3 (ipykernel)",
   "language": "python",
   "name": "python3"
  },
  "language_info": {
   "codemirror_mode": {
    "name": "ipython",
    "version": 3
   },
   "file_extension": ".py",
   "mimetype": "text/x-python",
   "name": "python",
   "nbconvert_exporter": "python",
   "pygments_lexer": "ipython3",
   "version": "3.12.10"
  }
 },
 "nbformat": 4,
 "nbformat_minor": 5
}
